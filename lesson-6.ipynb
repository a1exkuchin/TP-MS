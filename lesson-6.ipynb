{
 "cells": [
  {
   "cell_type": "markdown",
   "id": "940ea545",
   "metadata": {},
   "source": [
    "### Задача 1.\n",
    "\n",
    "Даны значения величины заработной платы заемщиков банка (zp) и значения их поведенческого кредитного скоринга (ks):\n",
    "- zp = [35, 45, 190, 200, 40, 70, 54, 150, 120, 110],\n",
    "- ks = [401, 574, 874, 919, 459, 739, 653, 902, 746, 832].\n",
    "\n",
    "Найдите ковариацию этих двух величин с помощью элементарных действий, а затем с помощью функции cov из numpy.\n",
    "Полученные значения должны быть равны.\n",
    "Найдите коэффициент корреляции Пирсона с помощью ковариации и среднеквадратичных отклонений двух признаков,\n",
    "а затем с использованием функций из библиотек numpy и pandas.\n",
    "\n",
    "### Решение."
   ]
  },
  {
   "cell_type": "code",
   "execution_count": 32,
   "id": "9ba3ffc0",
   "metadata": {},
   "outputs": [],
   "source": [
    "import numpy as np\n",
    "\n",
    "X = np.array([35, 45, 190, 200, 40, 70, 54, 150, 120, 110])\n",
    "Y = np.array([401, 574, 874, 919, 459, 739, 653, 902, 746, 832])\n",
    "XY = np.multiply(X,Y)"
   ]
  },
  {
   "cell_type": "markdown",
   "id": "28271e47",
   "metadata": {},
   "source": [
    "Посчитаем ковариацию по определению и с помощью функции cov из numpy"
   ]
  },
  {
   "cell_type": "code",
   "execution_count": 33,
   "id": "62c94579",
   "metadata": {},
   "outputs": [
    {
     "name": "stdout",
     "output_type": "stream",
     "text": [
      "cov(X,Y)=9157.839999999997\n",
      "np.cov(X,Y)=9157.84\n"
     ]
    }
   ],
   "source": [
    "print(f'cov(X,Y)={np.mean(XY)-np.mean(X)*np.mean(Y)}')\n",
    "\n",
    "print(f'np.cov(X,Y)={np.cov(X,Y,ddof=0)[1][0]}')"
   ]
  },
  {
   "cell_type": "markdown",
   "id": "935e2adc",
   "metadata": {},
   "source": [
    "Посчитаем коэффициент корреляции Пирсона с помощью ковариации и среднеквадратичных отклонений двух признаков, а затем с использованием функции corrcoef"
   ]
  },
  {
   "cell_type": "code",
   "execution_count": 34,
   "id": "27a3e163",
   "metadata": {},
   "outputs": [
    {
     "name": "stdout",
     "output_type": "stream",
     "text": [
      "R(X,Y)=0.8874900920739158\n",
      "np.corrcoef(X,Y)=0.8874900920739162\n"
     ]
    }
   ],
   "source": [
    "R = (np.mean(XY)-np.mean(X)*np.mean(Y))/(np.std(X)*np.std(Y))\n",
    "print(f'R(X,Y)={R}')\n",
    "print(f'np.corrcoef(X,Y)={np.corrcoef(X,Y)[1][0]}')"
   ]
  },
  {
   "cell_type": "markdown",
   "id": "6bf7f0e4",
   "metadata": {},
   "source": [
    "### Задача 2.\n",
    "Измерены значения IQ выборки студентов,\n",
    "обучающихся в местных технических вузах:\n",
    "131, 125, 115, 122, 131, 115, 107, 99, 125, 111.\n",
    "Известно, что в генеральной совокупности IQ распределен нормально.\n",
    "Найдите доверительный интервал для математического ожидания с надежностью 0.95.\n",
    "### Решение."
   ]
  },
  {
   "cell_type": "markdown",
   "id": "e104983c",
   "metadata": {},
   "source": [
    "Так как среднеквадратичное отклонение неизвестно, то доверительный интервал находим по формуле (используем распределение Стьюдента) $$\\bar{X} \\pm t_{\\alpha/2} \\cdot \\frac{s}{\\sqrt{n}}$$"
   ]
  },
  {
   "cell_type": "code",
   "execution_count": 35,
   "id": "b2d5da96",
   "metadata": {},
   "outputs": [],
   "source": [
    "a = np.array([131, 125, 115, 122, 131, 115, 107, 99, 125, 111])"
   ]
  },
  {
   "cell_type": "code",
   "execution_count": 36,
   "id": "e32c1751",
   "metadata": {},
   "outputs": [
    {
     "name": "stdout",
     "output_type": "stream",
     "text": [
      "Доверительный интервал для оценки IQ: [110.9432125583706, 125.25678744162938]\n"
     ]
    }
   ],
   "source": [
    "import scipy.stats as sps\n",
    "M = a.mean()\n",
    "s = a.std()\n",
    "t = sps.t.ppf((1 + 0.95)/2, 10-1)\n",
    "print(f'Доверительный интервал для оценки IQ: [{M-t*s/10**0.5}, {M+t*s/10**0.5}]')"
   ]
  },
  {
   "cell_type": "markdown",
   "id": "1f4233cb",
   "metadata": {},
   "source": [
    "### Задача 3.\n",
    "Известно, что рост футболистов в сборной распределен нормально\n",
    "с дисперсией генеральной совокупности, равной 25 кв.см. Объем выборки равен 27,\n",
    "среднее выборочное составляет 174.2. Найдите доверительный интервал для математического\n",
    "ожидания с надежностью 0.95.\n",
    "### Решение.\n",
    "Так как среднеквадратичное отклонение известно, то доверительный интервал находим по формуле (используем нормальное распрелделение) $$\\bar{X} \\pm Z_{\\alpha/2} \\cdot \\frac{\\sigma}{\\sqrt{n}}$$"
   ]
  },
  {
   "cell_type": "code",
   "execution_count": 39,
   "id": "14bf4dae",
   "metadata": {},
   "outputs": [
    {
     "name": "stdout",
     "output_type": "stream",
     "text": [
      "Доверительный интервал для оценки математического ожидания: [172.31402378 176.08597622]\n"
     ]
    }
   ],
   "source": [
    "print('Доверительный интервал для оценки математического ожидания:', sps.norm(loc=174.2, scale=25**0.5/27**0.5).ppf([0.025, 0.975]))"
   ]
  }
 ],
 "metadata": {
  "kernelspec": {
   "display_name": "Python 3",
   "language": "python",
   "name": "python3"
  },
  "language_info": {
   "codemirror_mode": {
    "name": "ipython",
    "version": 3
   },
   "file_extension": ".py",
   "mimetype": "text/x-python",
   "name": "python",
   "nbconvert_exporter": "python",
   "pygments_lexer": "ipython3",
   "version": "3.8.8"
  }
 },
 "nbformat": 4,
 "nbformat_minor": 5
}
