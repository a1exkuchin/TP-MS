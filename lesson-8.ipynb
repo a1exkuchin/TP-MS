{
 "cells": [
  {
   "cell_type": "code",
   "execution_count": 14,
   "id": "37c9e1be",
   "metadata": {},
   "outputs": [],
   "source": [
    "# -*- coding: utf-8 -*-\n",
    "import numpy as np\n",
    "\n",
    "y_f = np.array([173, 175, 180, 178, 177, 185, 183, 182], dtype=np.float64)\n",
    "y_h = np.array([177, 179, 180, 188, 177, 172, 171, 184, 180], dtype=np.float64)\n",
    "y_sh = np.array([172, 173, 169, 177, 166, 180, 178, 177, 172, 166, 170], dtype=np.float64)\n",
    "\n",
    "n1 = len(y_f)\n",
    "n2 = len(y_h)\n",
    "n3 = len(y_sh)\n",
    "n = n1 + n2 + n3"
   ]
  },
  {
   "cell_type": "markdown",
   "id": "9f631139",
   "metadata": {},
   "source": [
    "Сначала найдем средний рост для каждой группы спортсменов:"
   ]
  },
  {
   "cell_type": "code",
   "execution_count": 15,
   "id": "26a98aa0",
   "metadata": {},
   "outputs": [],
   "source": [
    "yh_mean = np.mean(y_h)\n",
    "yf_mean = np.mean(y_f)\n",
    "ysh_mean = np.mean(y_sh)"
   ]
  },
  {
   "cell_type": "markdown",
   "id": "9afedc25",
   "metadata": {},
   "source": [
    "Гипотеза $H_0$ - средный рост во всех группах одинаковый (т.е. вид спорта не влияет на рост спортсменов). Альтернативная гипотеза $H_1$ - средний рост зависит от вида спорта (различие в среднем росте в разных видах спорта статистически значимо). "
   ]
  },
  {
   "cell_type": "code",
   "execution_count": 16,
   "id": "dd1d6001",
   "metadata": {},
   "outputs": [],
   "source": [
    "y_all = np.concatenate([y_f, y_h, y_sh])\n",
    "y_mean = np.mean(y_all)\n",
    "s2 = np.sum((y_all - y_mean)**2)\n",
    "s2_f = ((yf_mean - y_mean)**2) * n1 + ((yh_mean - y_mean)**2) * n2 + ((ysh_mean - y_mean)**2) * n3\n",
    "s2_res = np.sum((y_f - yf_mean)**2) + np.sum((y_h - yh_mean)**2) + np.sum((y_sh - ysh_mean)**2)"
   ]
  },
  {
   "cell_type": "code",
   "execution_count": 17,
   "id": "c8f24460",
   "metadata": {},
   "outputs": [
    {
     "name": "stdout",
     "output_type": "stream",
     "text": [
      "F_h=5.500053450812598\n"
     ]
    }
   ],
   "source": [
    "k = 3\n",
    "sigma2_general = s2 / (n - 1)\n",
    "sigma2_f = s2_f / (k - 1)\n",
    "sigma2_res = s2_res / (n - k)\n",
    "\n",
    "F_h = sigma2_f / sigma2_res\n",
    "F_k = 3.38\n",
    "print(f'F_h={F_h}')"
   ]
  },
  {
   "cell_type": "markdown",
   "id": "af911256",
   "metadata": {},
   "source": [
    "Так как $F_{крит} = 3.38$ и  $F_h > F_{крит}$, различие среднего роста в трех видах спорта статистически значимо. Таким образом средний рост спортсмена зависит от вида спорта.\n",
    "\n",
    "Сделаем проверку наших вычислений."
   ]
  },
  {
   "cell_type": "code",
   "execution_count": 18,
   "id": "12e3e3e1",
   "metadata": {},
   "outputs": [
    {
     "data": {
      "text/plain": [
       "F_onewayResult(statistic=5.500053450812596, pvalue=0.010482206918698694)"
      ]
     },
     "execution_count": 18,
     "metadata": {},
     "output_type": "execute_result"
    }
   ],
   "source": [
    "from scipy import stats\n",
    "\n",
    "stats.f_oneway(y_f,y_h,y_sh)"
   ]
  }
 ],
 "metadata": {
  "kernelspec": {
   "display_name": "Python 3",
   "language": "python",
   "name": "python3"
  },
  "language_info": {
   "codemirror_mode": {
    "name": "ipython",
    "version": 3
   },
   "file_extension": ".py",
   "mimetype": "text/x-python",
   "name": "python",
   "nbconvert_exporter": "python",
   "pygments_lexer": "ipython3",
   "version": "3.8.8"
  }
 },
 "nbformat": 4,
 "nbformat_minor": 5
}
