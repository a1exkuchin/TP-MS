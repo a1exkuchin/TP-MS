{
 "cells": [
  {
   "cell_type": "markdown",
   "id": "918fb9b2",
   "metadata": {},
   "source": [
    "### Задание 1.\n",
    "Даны значения величины заработной платы заемщиков банка (zp) и значения их поведенческого кредитного скоринга (ks): \n",
    "* zp = [35, 45, 190, 200, 40, 70, 54, 150, 120, 110], \n",
    "* ks = [401, 574, 874, 919, 459, 739, 653, 902, 746, 832]. \n",
    "\n",
    "Используя математические операции, посчитать коэффициенты линейной регрессии, приняв за X заработную плату (то есть, zp - признак), а за y - значения скорингового балла (то есть, ks - целевая переменная). Произвести расчет как с использованием intercept, так и без.\n",
    "### Решение.\n"
   ]
  },
  {
   "cell_type": "code",
   "execution_count": 30,
   "id": "09afd107",
   "metadata": {},
   "outputs": [
    {
     "name": "stdout",
     "output_type": "stream",
     "text": [
      "С intercept\n",
      "a=444.1773573243596, b=2.620538882402765\n",
      "\n",
      "Без intercept\n",
      "b=5.889820420132688\n"
     ]
    }
   ],
   "source": [
    "import numpy as np\n",
    "import pandas as pd\n",
    "import matplotlib.pyplot as plt\n",
    "\n",
    "X = np.array([35, 45, 190, 200, 40, 70, 54, 150, 120, 110], dtype=np.float64)\n",
    "y = np.array([401, 574, 874, 919, 459, 739, 653, 902, 746, 832], dtype=np.float64)\n",
    "b = (np.mean(X * y) - np.mean(X) * np.mean(y)) / (np.mean(X**2) - np.mean(X)**2)\n",
    "a = np.mean(y) - b * np.mean(X)\n",
    "y_pred = a + b * X\n",
    "print('С intercept')\n",
    "print(f'a={a}, b={b}')\n",
    "print()\n",
    "\n",
    "# без intercept\n",
    "B = y@X*((X.T@X)**(-1))\n",
    "print('Без intercept')\n",
    "print(f'b={B}')\n",
    "y_1 = B * X"
   ]
  },
  {
   "cell_type": "code",
   "execution_count": 31,
   "id": "9ccb7b7b",
   "metadata": {},
   "outputs": [
    {
     "data": {
      "image/png": "[encoded data removed]",
      "text/plain": [
       "<Figure size 432x288 with 1 Axes>"
      ]
     },
     "metadata": {
      "needs_background": "light"
     },
     "output_type": "display_data"
    },
    {
     "name": "stdout",
     "output_type": "stream",
     "text": [
      "Среднеквадратичная ошибка с intercept равна 6470.414201176658\n",
      "Среднеквадратичная ошибка без intercept равна 56516.8584157194\n"
     ]
    }
   ],
   "source": [
    "df = pd.DataFrame({'X': X, 'y': y, 'y_pred': y_pred, 'y_1': y_1}, columns=['X', 'y', 'y_pred', 'y_1'])\n",
    "\n",
    "plt.scatter(df['X'], df['y'])\n",
    "plt.plot(df['X'], df['y_pred'], \"-g\", label=\"with intercept\")\n",
    "plt.plot(df['X'], df['y_1'], \"-r\", label=\"without intercept\")\n",
    "plt.xlabel('Величина заработной платы')\n",
    "plt.ylabel('Кредитный скоринг')\n",
    "plt.legend(loc=\"upper left\")\n",
    "plt.show()\n",
    "\n",
    "mse = ((y - y_pred)**2).sum()/len(y)\n",
    "print(f'Среднеквадратичная ошибка с intercept равна {mse}')\n",
    "mse_1 = ((y - y_1)**2).sum()/len(y)\n",
    "print(f'Среднеквадратичная ошибка без intercept равна {mse_1}')"
   ]
  },
  {
   "cell_type": "markdown",
   "id": "798b3158",
   "metadata": {},
   "source": [
    "### Задание 2.\n",
    "Посчитать коэффициент линейной регрессии при заработной плате (zp), используя градиентный спуск (без intercept).\n",
    "### Решение."
   ]
  },
  {
   "cell_type": "code",
   "execution_count": 32,
   "id": "266b7647",
   "metadata": {},
   "outputs": [
    {
     "name": "stdout",
     "output_type": "stream",
     "text": [
      "B=5.889816916279482\n"
     ]
    }
   ],
   "source": [
    "def mse(X, y, B):\n",
    "    return np.sum((B * X - y)**2)/len(y)\n",
    "\n",
    "def gde(X, y, alpha=1e-6, err=1e-8):\n",
    "    B = 0.01\n",
    "    mse_prev = 10**5\n",
    "    \n",
    "    while abs(mse_prev - mse(X, y, B)) > err:\n",
    "        mse_prev = mse(X, y, B)\n",
    "        B -= alpha * 2 * np.sum((B * X - y) * X) / len(y)\n",
    "    return B\n",
    "\n",
    "print(f'B={gde(X, y)}')"
   ]
  },
  {
   "cell_type": "markdown",
   "id": "c686be38",
   "metadata": {},
   "source": [
    "### Задание 3.\n",
    "В каких случаях для вычисления доверительных интервалов и проверки статистических гипотез используется таблица значений функции Лапласа, а в каких - таблица критических точек распределения Стьюдента?\n",
    "### Решение.\n",
    "В случае если генеральная дисперсия $\\sigma^2$ известна, используется таблица значений функции Лапласа. В случае если генеральная дисперсия $\\sigma^2$ неизвестна, используется таблица распределения Стьюдента."
   ]
  },
  {
   "cell_type": "markdown",
   "id": "bee7bbbb",
   "metadata": {},
   "source": [
    "### Задание 4.\n",
    "Произвести вычисления как в пункте 2, но с вычислением intercept. Учесть, что изменение коэффициентов должно производиться на каждом шаге одновременно (то есть изменение одного коэффициента не должно влиять на изменение другого во время одной итерации).\n",
    "\n",
    "### Решение."
   ]
  },
  {
   "cell_type": "code",
   "execution_count": 71,
   "id": "6877a2f6",
   "metadata": {},
   "outputs": [
    {
     "name": "stdout",
     "output_type": "stream",
     "text": [
      "B0=444.1708649293089, B1=2.6205866693007906\n"
     ]
    }
   ],
   "source": [
    "def mse_(X, y, B):\n",
    "    return np.sum((B @ X - y)**2)/len(y)\n",
    "\n",
    "def gde_(X, y, alpha=1e-5, err=1e-10):\n",
    "    B = np.array([0.1, 0.1])\n",
    "    mse_prev = 10**5\n",
    "    while abs(mse_prev - mse_(X, y, B)) > err:\n",
    "        mse_prev = mse_(X, y, B)\n",
    "        B -= alpha * 2 * ((B @ X - y) @ X.T) / len(y)\n",
    "    return B\n",
    "\n",
    "P = np.array([[1]*len(y), [35, 45, 190, 200, 40, 70, 54, 150, 120, 110]], dtype=np.float64)\n",
    "Q = gde_(P, y)\n",
    "print(f'B0={Q[0]}, B1={Q[1]}')"
   ]
  }
 ],
 "metadata": {
  "kernelspec": {
   "display_name": "Python 3",
   "language": "python",
   "name": "python3"
  },
  "language_info": {
   "codemirror_mode": {
    "name": "ipython",
    "version": 3
   },
   "file_extension": ".py",
   "mimetype": "text/x-python",
   "name": "python",
   "nbconvert_exporter": "python",
   "pygments_lexer": "ipython3",
   "version": "3.8.8"
  }
 },
 "nbformat": 4,
 "nbformat_minor": 5
}
